{
 "metadata": {
  "language_info": {
   "codemirror_mode": {
    "name": "ipython",
    "version": 3
   },
   "file_extension": ".py",
   "mimetype": "text/x-python",
   "name": "python",
   "nbconvert_exporter": "python",
   "pygments_lexer": "ipython3",
   "version": "3.8.3-final"
  },
  "orig_nbformat": 2,
  "kernelspec": {
   "name": "python3",
   "display_name": "Python 3.8.3 64-bit (conda)",
   "metadata": {
    "interpreter": {
     "hash": "d4722e11f08e05dbf7957113eb77a8f4abc0f1acef112e52146a05781833940c"
    }
   }
  }
 },
 "nbformat": 4,
 "nbformat_minor": 2,
 "cells": [
  {
   "cell_type": "code",
   "execution_count": 1,
   "metadata": {},
   "outputs": [],
   "source": [
    "\n",
    "import torch \n",
    "import matplotlib.pylab as plt\n",
    "import pandas as pd\n",
    "import numpy as np\n",
    "import os\n",
    "from torch.utils.data import Dataset, DataLoader,TensorDataset\n",
    "import seaborn as sns\n",
    "from sklearn.preprocessing import StandardScaler\n",
    "from torch.autograd import Variable\n",
    "import torch.nn.functional as F"
   ]
  },
  {
   "cell_type": "code",
   "execution_count": 3,
   "metadata": {},
   "outputs": [],
   "source": [
    "directory = \"data\\linear\"\n",
    "file_name = \"insurance.csv\"\n",
    "med_path = os.path.join(directory,file_name)\n",
    "med_data = pd.read_csv(med_path)"
   ]
  },
  {
   "cell_type": "code",
   "execution_count": 4,
   "metadata": {},
   "outputs": [
    {
     "output_type": "execute_result",
     "data": {
      "text/plain": [
       "      age     sex     bmi  children smoker     region      charges\n",
       "0      19  female  27.900         0    yes  southwest  16884.92400\n",
       "1      18    male  33.770         1     no  southeast   1725.55230\n",
       "2      28    male  33.000         3     no  southeast   4449.46200\n",
       "3      33    male  22.705         0     no  northwest  21984.47061\n",
       "4      32    male  28.880         0     no  northwest   3866.85520\n",
       "...   ...     ...     ...       ...    ...        ...          ...\n",
       "1333   50    male  30.970         3     no  northwest  10600.54830\n",
       "1334   18  female  31.920         0     no  northeast   2205.98080\n",
       "1335   18  female  36.850         0     no  southeast   1629.83350\n",
       "1336   21  female  25.800         0     no  southwest   2007.94500\n",
       "1337   61  female  29.070         0    yes  northwest  29141.36030\n",
       "\n",
       "[1338 rows x 7 columns]"
      ],
      "text/html": "<div>\n<style scoped>\n    .dataframe tbody tr th:only-of-type {\n        vertical-align: middle;\n    }\n\n    .dataframe tbody tr th {\n        vertical-align: top;\n    }\n\n    .dataframe thead th {\n        text-align: right;\n    }\n</style>\n<table border=\"1\" class=\"dataframe\">\n  <thead>\n    <tr style=\"text-align: right;\">\n      <th></th>\n      <th>age</th>\n      <th>sex</th>\n      <th>bmi</th>\n      <th>children</th>\n      <th>smoker</th>\n      <th>region</th>\n      <th>charges</th>\n    </tr>\n  </thead>\n  <tbody>\n    <tr>\n      <th>0</th>\n      <td>19</td>\n      <td>female</td>\n      <td>27.900</td>\n      <td>0</td>\n      <td>yes</td>\n      <td>southwest</td>\n      <td>16884.92400</td>\n    </tr>\n    <tr>\n      <th>1</th>\n      <td>18</td>\n      <td>male</td>\n      <td>33.770</td>\n      <td>1</td>\n      <td>no</td>\n      <td>southeast</td>\n      <td>1725.55230</td>\n    </tr>\n    <tr>\n      <th>2</th>\n      <td>28</td>\n      <td>male</td>\n      <td>33.000</td>\n      <td>3</td>\n      <td>no</td>\n      <td>southeast</td>\n      <td>4449.46200</td>\n    </tr>\n    <tr>\n      <th>3</th>\n      <td>33</td>\n      <td>male</td>\n      <td>22.705</td>\n      <td>0</td>\n      <td>no</td>\n      <td>northwest</td>\n      <td>21984.47061</td>\n    </tr>\n    <tr>\n      <th>4</th>\n      <td>32</td>\n      <td>male</td>\n      <td>28.880</td>\n      <td>0</td>\n      <td>no</td>\n      <td>northwest</td>\n      <td>3866.85520</td>\n    </tr>\n    <tr>\n      <th>...</th>\n      <td>...</td>\n      <td>...</td>\n      <td>...</td>\n      <td>...</td>\n      <td>...</td>\n      <td>...</td>\n      <td>...</td>\n    </tr>\n    <tr>\n      <th>1333</th>\n      <td>50</td>\n      <td>male</td>\n      <td>30.970</td>\n      <td>3</td>\n      <td>no</td>\n      <td>northwest</td>\n      <td>10600.54830</td>\n    </tr>\n    <tr>\n      <th>1334</th>\n      <td>18</td>\n      <td>female</td>\n      <td>31.920</td>\n      <td>0</td>\n      <td>no</td>\n      <td>northeast</td>\n      <td>2205.98080</td>\n    </tr>\n    <tr>\n      <th>1335</th>\n      <td>18</td>\n      <td>female</td>\n      <td>36.850</td>\n      <td>0</td>\n      <td>no</td>\n      <td>southeast</td>\n      <td>1629.83350</td>\n    </tr>\n    <tr>\n      <th>1336</th>\n      <td>21</td>\n      <td>female</td>\n      <td>25.800</td>\n      <td>0</td>\n      <td>no</td>\n      <td>southwest</td>\n      <td>2007.94500</td>\n    </tr>\n    <tr>\n      <th>1337</th>\n      <td>61</td>\n      <td>female</td>\n      <td>29.070</td>\n      <td>0</td>\n      <td>yes</td>\n      <td>northwest</td>\n      <td>29141.36030</td>\n    </tr>\n  </tbody>\n</table>\n<p>1338 rows × 7 columns</p>\n</div>"
     },
     "metadata": {},
     "execution_count": 4
    }
   ],
   "source": [
    "med_data"
   ]
  },
  {
   "cell_type": "code",
   "execution_count": 5,
   "metadata": {},
   "outputs": [],
   "source": [
    "gender = {'male':1,'female':2}\n",
    "region = {'southwest':1,'southeast':2,'northwest':3,'northeast':4}\n",
    "smoker = {'yes':1,'no':0}\n",
    "med_data.sex = [gender[item] for item in med_data.sex]\n",
    "med_data.region = [region[item] for item in med_data.region]\n",
    "med_data.smoker = [smoker[item] for item in med_data.smoker]"
   ]
  },
  {
   "cell_type": "code",
   "execution_count": 6,
   "metadata": {},
   "outputs": [],
   "source": [
    "x = med_data.iloc[:,0:6].values\n",
    "y = med_data.iloc[:,6].values\n",
    "\n",
    "x = torch.tensor(x,dtype=torch.float32)\n",
    "y = torch.tensor(y,dtype=torch.float32)\n",
    "y = y.view(y.shape[0],1)\n",
    "#Dataset\n",
    "medDataset = TensorDataset(x,y)\n",
    "\n",
    "#Dataloader\n",
    "medLoader = DataLoader(medDataset,batch_size = 10,shuffle= True)\n"
   ]
  },
  {
   "cell_type": "code",
   "execution_count": 7,
   "metadata": {},
   "outputs": [
    {
     "output_type": "stream",
     "name": "stdout",
     "text": [
      "tensor([[26.0000,  1.0000, 30.8750,  2.0000,  0.0000,  3.0000],\n        [47.0000,  1.0000, 25.4100,  1.0000,  1.0000,  2.0000],\n        [30.0000,  2.0000, 32.4000,  1.0000,  0.0000,  1.0000],\n        [18.0000,  1.0000, 41.1400,  0.0000,  0.0000,  2.0000],\n        [38.0000,  2.0000, 30.2100,  3.0000,  0.0000,  3.0000],\n        [50.0000,  1.0000, 26.6000,  0.0000,  0.0000,  1.0000],\n        [32.0000,  1.0000, 30.8000,  3.0000,  0.0000,  1.0000],\n        [44.0000,  1.0000, 37.1000,  2.0000,  0.0000,  1.0000],\n        [45.0000,  2.0000, 25.7000,  3.0000,  0.0000,  1.0000],\n        [19.0000,  2.0000, 35.1500,  0.0000,  0.0000,  3.0000]])\ntensor([[ 3877.3042],\n        [21978.6777],\n        [ 4149.7358],\n        [ 1146.7966],\n        [ 7537.1641],\n        [ 8444.4736],\n        [ 5253.5239],\n        [ 7740.3369],\n        [ 9101.7979],\n        [ 2134.9016]])\n"
     ]
    }
   ],
   "source": [
    "for data,label in medLoader:\n",
    "    print(data)\n",
    "    print(label)\n",
    "    break"
   ]
  },
  {
   "cell_type": "code",
   "execution_count": 8,
   "metadata": {},
   "outputs": [],
   "source": [
    "#define network\n",
    "class linearRegression(torch.nn.Module):\n",
    "    def __init__(self, inputSize, hiddenSize ,outputSize):\n",
    "        super(linearRegression, self).__init__()\n",
    "        self.linear = torch.nn.Linear(inputSize, hiddenSize)\n",
    "        self.linear2 = torch.nn.Linear(hiddenSize,outputSize)\n",
    "        self.linear3 = torch.nn.Linear(inputSize,outputSize)\n",
    "\n",
    "    def forward(self, x):\n",
    "        out = self.linear3(x)\n",
    "        return out"
   ]
  },
  {
   "cell_type": "code",
   "execution_count": 9,
   "metadata": {},
   "outputs": [],
   "source": [
    "inputDim = 6     # takes variable 'x' \n",
    "outputDim = 1\n",
    "hiddenDim = 5       # takes variable 'y'\n",
    "learningRate = 0.00001 \n",
    "num_epochs = 1000\n",
    "\n",
    "model = linearRegression(inputDim, hiddenDim ,outputDim)\n",
    "\n",
    "\n",
    "criterion = torch.nn.MSELoss() \n",
    "optimizer = torch.optim.SGD(model.parameters(), lr=learningRate)"
   ]
  },
  {
   "cell_type": "code",
   "execution_count": 14,
   "metadata": {},
   "outputs": [
    {
     "output_type": "stream",
     "name": "stdout",
     "text": [
      "epoch 0, loss 99142784.0\n"
     ]
    }
   ],
   "source": [
    "loss_list = []\n",
    "for epochs in range(num_epochs):\n",
    "    for data,label in medLoader:\n",
    "        # get output from the model, given the inputs\n",
    "        outputs = model(data)\n",
    "        # get loss for the predicted output\n",
    "        loss = criterion(outputs, label)\n",
    "        \n",
    "        # get gradients w.r.t to parameters\n",
    "        optimizer.zero_grad()\n",
    "        loss.backward()\n",
    "        \n",
    "        # update parameters\n",
    "        optimizer.step()\n",
    "    loss_list.append(loss.data)\n",
    "    if epochs % 10 == 0:\n",
    "         print('epoch {}, loss {}'.format(epochs, loss.item()))"
   ]
  },
  {
   "cell_type": "code",
   "execution_count": 11,
   "metadata": {},
   "outputs": [],
   "source": [
    "def predict_single(input, target, model):\n",
    "    inputs = input.unsqueeze(0)\n",
    "    predictions = model(inputs)               \n",
    "    prediction = predictions[0].detach()\n",
    "    print(\"Input:\", input)\n",
    "    print(\"Target:\", target)\n",
    "    print(\"Prediction:\", prediction)"
   ]
  },
  {
   "cell_type": "code",
   "execution_count": 12,
   "metadata": {},
   "outputs": [
    {
     "output_type": "stream",
     "name": "stdout",
     "text": [
      "Input: tensor([25.0000,  1.0000, 26.2200,  0.0000,  0.0000,  4.0000])\nTarget: tensor([2721.3208])\nPrediction: tensor([7668.0977])\n"
     ]
    }
   ],
   "source": [
    "input , label = medDataset[10]\n",
    "\n",
    "predict_single(input,label,model)"
   ]
  },
  {
   "cell_type": "code",
   "execution_count": null,
   "metadata": {},
   "outputs": [],
   "source": []
  }
 ]
}